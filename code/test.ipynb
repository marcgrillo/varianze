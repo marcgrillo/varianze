{
 "cells": [
  {
   "cell_type": "code",
   "execution_count": 1,
   "id": "roman-yellow",
   "metadata": {},
   "outputs": [],
   "source": [
    "import pandas as pd\n",
    "import os   #These two are useful modules\n",
    "import sys\n",
    "import time\n",
    "import numpy as np #Numerical Python\n",
    "import matplotlib.pyplot as plt\n",
    "from scipy.optimize import curve_fit\n",
    "\n",
    "\n",
    "code_dir = os.getcwd()\n",
    "main_dir = os.path.join(code_dir,\"..\")\n",
    "data_dir = os.path.join(main_dir,\"data\")\n",
    "results_dir = os.path.join(main_dir,\"results\")\n",
    "if not os.path.exists(results_dir):\n",
    "    os.mkdir(results_dir)\n",
    "    print(\"Directory %s created !\" % results_dir)"
   ]
  },
  {
   "cell_type": "code",
   "execution_count": 2,
   "id": "saving-mystery",
   "metadata": {},
   "outputs": [
    {
     "name": "stdout",
     "output_type": "stream",
     "text": [
      "               Data     Price             Time  Hour  Minute     Second  \\\n",
      "0        2021-09-22  43791.70  19:52:35.325845  19.0    52.0  35.325845   \n",
      "1        2021-09-22  43791.70  19:52:35.751676  19.0    52.0  35.751676   \n",
      "2        2021-09-22  43791.70  19:52:36.001670  19.0    52.0  36.001670   \n",
      "3        2021-09-22  43798.71  19:52:36.251682  19.0    52.0  36.251682   \n",
      "4        2021-09-22  43798.71  19:52:36.487399  19.0    52.0  36.487399   \n",
      "...             ...       ...              ...   ...     ...        ...   \n",
      "1338753  2021-09-27  42938.02  01:13:43.133499   1.0    13.0  43.133499   \n",
      "1338754  2021-09-27  42942.87  01:13:43.411511   1.0    13.0  43.411511   \n",
      "1338755  2021-09-27  42942.87  01:13:43.725500   1.0    13.0  43.725500   \n",
      "1338756  2021-09-27  42942.87  01:13:43.999499   1.0    13.0  43.999499   \n",
      "1338757  2021-09-27  42942.87  01:13:44.289496   1.0    13.0  44.289496   \n",
      "\n",
      "           Year  Month   Day  time_of_month_in_minute  \n",
      "0        2021.0    9.0  22.0             32872.588764  \n",
      "1        2021.0    9.0  22.0             32872.595861  \n",
      "2        2021.0    9.0  22.0             32872.600028  \n",
      "3        2021.0    9.0  22.0             32872.604195  \n",
      "4        2021.0    9.0  22.0             32872.608123  \n",
      "...         ...    ...   ...                      ...  \n",
      "1338753  2021.0    9.0  27.0             38953.718892  \n",
      "1338754  2021.0    9.0  27.0             38953.723525  \n",
      "1338755  2021.0    9.0  27.0             38953.728758  \n",
      "1338756  2021.0    9.0  27.0             38953.733325  \n",
      "1338757  2021.0    9.0  27.0             38953.738158  \n",
      "\n",
      "[1338758 rows x 10 columns]\n"
     ]
    }
   ],
   "source": [
    "data = pd.read_csv(os.path.join(data_dir,'varianze_bitcoin5.txt'), sep=\",\", header=None)\n",
    "data.columns = [\"Data\", \"Price\"]\n",
    "data[['Data','Time']]=data.Data.str.split(expand=True)\n",
    "data[['Hour','Minute','Second']]=data.Time.str.split(':',expand=True).astype(float)\n",
    "data[['Year','Month','Day']]=data.Data.str.split('-',expand=True).astype(float)\n",
    "data['time_of_month_in_minute']=data.Day*1440+data.Hour*60+data.Minute+data.Second/60\n",
    "print(data)"
   ]
  },
  {
   "cell_type": "code",
   "execution_count": 3,
   "id": "miniature-earthquake",
   "metadata": {},
   "outputs": [],
   "source": [
    "#Cut datas you need\n",
    "def cut_datas(every_minutes,long,bins,start_when_day,start_when_time):\n",
    "    \n",
    "    h_in,min_in,sec_in=np.asarray(start_when_time.split(':')).astype(float)\n",
    "    y_in,m_in,d_in=np.asarray(start_when_day.split('-')).astype(float)\n",
    "\n",
    "    start_minute=d_in*1440+h_in*60+min_in+sec_in/60\n",
    "    stop_minute=start_minute+(long+1)*every_minutes\n",
    "    \n",
    "    ranges=np.arange(start_minute, stop_minute, every_minutes)\n",
    "    \n",
    "    temp=data\n",
    "    temp['range'] = pd.cut(temp.time_of_month_in_minute, ranges, include_lowest=True)\n",
    "\n",
    "    ax=temp.hist(column='Price', by='range', bins = bins, figsize=(30,20))\n",
    "    \n",
    "    prezzi=[]\n",
    "    bins2=[]\n",
    "    for axx in ax:\n",
    "        for x in axx:\n",
    "            p = x.patches\n",
    "            xlim=x.get_xlim()\n",
    "            xx=np.around(np.linspace(xlim[0],xlim[1],bins),1)\n",
    "            prezzi.append(xx)\n",
    "            heights = [patch.get_height() for patch in p]\n",
    "            bins2.append(heights)\n",
    "    \n",
    "        \n",
    "    return prezzi,bins2"
   ]
  },
  {
   "cell_type": "code",
   "execution_count": 4,
   "id": "innocent-aruba",
   "metadata": {},
   "outputs": [],
   "source": [
    "def fit_datas(binnes,prezzi):\n",
    "\n",
    "    def fit_function(x, a, b, c):\n",
    "        return a*np.exp(-((x-c)/b)**2)\n",
    "\n",
    "    #array_di_medie=[]\n",
    "    array_di_medie_nonfit=[]\n",
    "    array_di_varianze=[]\n",
    "\n",
    "    y=binnes\n",
    "    for k in range(len(y)):\n",
    "        xx=prezzi[k]\n",
    "        try:\n",
    "            initial_values=(np.max(y[k]), 30, xx[np.argmax(y[k])])\n",
    "            dy=np.full(len(xx), initial_values[1])\n",
    "            pars, covm = curve_fit(fit_function, xx, y[k], initial_values,dy)\n",
    "\n",
    "            varianza=round(pars[1],1)\n",
    "            media=round(pars[2],1)\n",
    "\n",
    "\n",
    "            if media>35000 and varianza<650:\n",
    "                #array_di_medie.append(media)\n",
    "                array_di_medie_nonfit.append(np.mean(xx))\n",
    "                array_di_varianze.append(varianza)\n",
    "\n",
    "            x1=np.linspace(np.min(xx),np.max(xx),200)\n",
    "            y1=pars[0]*np.exp(-((x1-pars[2])/pars[1])**2)\n",
    "\n",
    "        except:\n",
    "            pass\n",
    "    return array_di_medie_nonfit, array_di_varianze\n"
   ]
  },
  {
   "cell_type": "code",
   "execution_count": 5,
   "id": "spanish-devices",
   "metadata": {},
   "outputs": [],
   "source": [
    "def try_strategy(array_di_medie_nonfit,array_di_varianze): \n",
    "\n",
    "    def fit_retta(x, a, b):\n",
    "        return a*x+b\n",
    "    \n",
    "    med_var=np.round(np.mean(array_di_varianze),2)\n",
    "    med_med=np.round(np.mean(array_di_medie_nonfit),2)\n",
    "\n",
    "    y_var=(array_di_varianze-med_var)/(np.max(array_di_varianze)-med_var)\n",
    "    y_med=(array_di_medie_nonfit-med_med)/(np.max(array_di_medie_nonfit)-med_med)\n",
    "                  \n",
    "\n",
    "    x2=np.linspace(0,len(y_med),len(y_med))\n",
    "    score=0\n",
    "\n",
    "    for i in range(len(y_var)-1):\n",
    "        try:\n",
    "            if np.abs(y_var[i+1]-y_var[i])>0.4:\n",
    "                temp_var=y_var[:i+1]\n",
    "                temp_med=y_med[:i+1]\n",
    "\n",
    "                initial_values=((y_med[i+1]-y_med[0])/x2[i],np.mean(temp_var))\n",
    "                pars, covm = curve_fit(fit_retta, x2[:i+1], temp_med, initial_values)\n",
    "\n",
    "                y_test=pars[0]*x2+pars[1]\n",
    "\n",
    "                if y_med[i+1]<y_test[i+1]:\n",
    "                    rel_score=np.mean(y_med[i+2:i+8])-y_med[i+1]\n",
    "                    score=score+rel_score\n",
    "                else:\n",
    "                    rel_score=-np.mean(y_med[i+2:i+8])+y_med[i+1]\n",
    "                    score=score+rel_score\n",
    "        except:\n",
    "            pass\n",
    "\n",
    "    return score"
   ]
  },
  {
   "cell_type": "code",
   "execution_count": null,
   "id": "southern-knowing",
   "metadata": {},
   "outputs": [
    {
     "name": "stdout",
     "output_type": "stream",
     "text": [
      "15\n"
     ]
    },
    {
     "name": "stderr",
     "output_type": "stream",
     "text": [
      "<ipython-input-5-bf8af09ebd50>:22: RuntimeWarning: divide by zero encountered in double_scalars\n",
      "  initial_values=((y_med[i+1]-y_med[0])/x2[i],np.mean(temp_var))\n",
      "<ipython-input-5-bf8af09ebd50>:4: RuntimeWarning: invalid value encountered in multiply\n",
      "  return a*x+b\n",
      "/home/marco/.local/lib/python3.9/site-packages/scipy/optimize/minpack.py:833: OptimizeWarning: Covariance of the parameters could not be estimated\n",
      "  warnings.warn('Covariance of the parameters could not be estimated',\n",
      "/home/marco/.local/lib/python3.9/site-packages/numpy/core/fromnumeric.py:3440: RuntimeWarning: Mean of empty slice.\n",
      "  return _methods._mean(a, axis=axis, dtype=dtype,\n",
      "/home/marco/.local/lib/python3.9/site-packages/numpy/core/_methods.py:189: RuntimeWarning: invalid value encountered in double_scalars\n",
      "  ret = ret.dtype.type(ret / rcount)\n",
      "/home/marco/.local/lib/python3.9/site-packages/pandas/plotting/_matplotlib/tools.py:218: RuntimeWarning: More than 20 figures have been opened. Figures created through the pyplot interface (`matplotlib.pyplot.figure`) are retained until explicitly closed and may consume too much memory. (To control this warning, see the rcParam `figure.max_open_warning`).\n",
      "  fig = plt.figure(**fig_kw)\n"
     ]
    },
    {
     "name": "stdout",
     "output_type": "stream",
     "text": [
      "16\n",
      "17\n",
      "18\n",
      "19\n"
     ]
    }
   ],
   "source": [
    "info=[]\n",
    "for l in range(15,241) :\n",
    "    print(l)\n",
    "    for d in range (23,27):\n",
    "        for h in range(0,24,4):\n",
    "            start_when_day='2021-09-'+str(d)\n",
    "            start_when_time=str(h)+':00:00'\n",
    "            every_minutes=1\n",
    "            long=l\n",
    "            bins=9\n",
    "            prezzi,binnes=cut_datas(every_minutes,long,bins,start_when_day,start_when_time)\n",
    "            mediex,varianzex=fit_datas(binnes,prezzi)\n",
    "            scorex=try_strategy(mediex,varianzex)\n",
    "            info.append([scorex,l])"
   ]
  },
  {
   "cell_type": "code",
   "execution_count": null,
   "id": "generous-uzbekistan",
   "metadata": {},
   "outputs": [],
   "source": [
    "#plot istogramma degli scores per lunghezza di analisi in minuti\n",
    "\n",
    "df = pd.DataFrame(info, columns=['Scores', 'minuti'])\n",
    "bins=10\n",
    "axel=df.hist(column='Scores', by='minuti', bins = bins, figsize=(30,20))"
   ]
  },
  {
   "cell_type": "code",
   "execution_count": null,
   "id": "checked-aviation",
   "metadata": {},
   "outputs": [],
   "source": []
  }
 ],
 "metadata": {
  "kernelspec": {
   "display_name": "Python 3",
   "language": "python",
   "name": "python3"
  },
  "language_info": {
   "codemirror_mode": {
    "name": "ipython",
    "version": 3
   },
   "file_extension": ".py",
   "mimetype": "text/x-python",
   "name": "python",
   "nbconvert_exporter": "python",
   "pygments_lexer": "ipython3",
   "version": "3.9.5"
  }
 },
 "nbformat": 4,
 "nbformat_minor": 5
}
